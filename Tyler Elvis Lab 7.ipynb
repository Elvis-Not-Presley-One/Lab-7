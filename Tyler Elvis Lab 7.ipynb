{
 "cells": [
  {
   "cell_type": "markdown",
   "id": "95597eb3-bc47-4fad-8cfe-e3885919015a",
   "metadata": {},
   "source": [
    "## Lab 7 Problem 1\n",
    "    #Impacts\n",
    "\n",
    "    *View Finction \n",
    "        *needs try except \n",
    "        \n",
    "    *del Function \n",
    "        *needs try except \n",
    "        *needs to call write game to update list to csv\n",
    "        \n",
    "    *main \n",
    "        *removed the games_list = list[]\n",
    "        *added games_list = read_game() function\n",
    "\n",
    "    #New\n",
    "\n",
    "    *write_game\n",
    "        *new function\n",
    "        *that writes the list into the csv file \n",
    "\n",
    "    *Read_Game \n",
    "        *new function\n",
    "        *reads the imported csv file into the list when called "
   ]
  },
  {
   "cell_type": "code",
   "execution_count": 62,
   "id": "fb700335-99dd-4cee-8f29-545c5229ab7b",
   "metadata": {},
   "outputs": [
    {
     "name": "stdout",
     "output_type": "stream",
     "text": [
      "COMMAND MENU\n",
      "list - Display all games\n",
      "view - View a game\n",
      "add - Add a game\n",
      "del - Delete a game\n",
      "exit - Exit program\n"
     ]
    },
    {
     "name": "stdin",
     "output_type": "stream",
     "text": [
      "\n",
      "Enter Command:  lsit\n"
     ]
    },
    {
     "name": "stdout",
     "output_type": "stream",
     "text": [
      "Not a valid command.  Please try again.\n",
      "\n"
     ]
    },
    {
     "name": "stdin",
     "output_type": "stream",
     "text": [
      "\n",
      "Enter Command:  list\n"
     ]
    },
    {
     "name": "stdout",
     "output_type": "stream",
     "text": [
      "\n",
      "1. Mario Kart 8\n",
      "2. Super Smash Bros\n",
      "3. Fortnite\n",
      "\n",
      "COMMAND MENU\n",
      "list - Display all games\n",
      "view - View a game\n",
      "add - Add a game\n",
      "del - Delete a game\n",
      "exit - Exit program\n"
     ]
    },
    {
     "name": "stdin",
     "output_type": "stream",
     "text": [
      "\n",
      "Enter Command:  view\n",
      "Number:  one\n"
     ]
    },
    {
     "name": "stdout",
     "output_type": "stream",
     "text": [
      "You Need To Enter A Vaild Number\n"
     ]
    },
    {
     "name": "stdin",
     "output_type": "stream",
     "text": [
      "Number:  1\n"
     ]
    },
    {
     "name": "stdout",
     "output_type": "stream",
     "text": [
      "Game: Mario Kart 8\n",
      "High Scorer Email:  meme@gmail.com\n",
      "High Score:  332434343\n",
      "\n",
      "COMMAND MENU\n",
      "list - Display all games\n",
      "view - View a game\n",
      "add - Add a game\n",
      "del - Delete a game\n",
      "exit - Exit program\n"
     ]
    },
    {
     "name": "stdin",
     "output_type": "stream",
     "text": [
      "\n",
      "Enter Command:  add\n",
      "Game:  papper\n",
      "High Scorer Email:  t@gmail.com\n",
      "High Score:  1212\n"
     ]
    },
    {
     "name": "stdout",
     "output_type": "stream",
     "text": [
      "papper was added.\n",
      "\n",
      "COMMAND MENU\n",
      "list - Display all games\n",
      "view - View a game\n",
      "add - Add a game\n",
      "del - Delete a game\n",
      "exit - Exit program\n"
     ]
    },
    {
     "name": "stdin",
     "output_type": "stream",
     "text": [
      "\n",
      "Enter Command:  list\n"
     ]
    },
    {
     "name": "stdout",
     "output_type": "stream",
     "text": [
      "\n",
      "1. Mario Kart 8\n",
      "2. Super Smash Bros\n",
      "3. Fortnite\n",
      "4. papper\n",
      "\n",
      "COMMAND MENU\n",
      "list - Display all games\n",
      "view - View a game\n",
      "add - Add a game\n",
      "del - Delete a game\n",
      "exit - Exit program\n"
     ]
    },
    {
     "name": "stdin",
     "output_type": "stream",
     "text": [
      "\n",
      "Enter Command:  del\n",
      "Number:  four\n"
     ]
    },
    {
     "name": "stdout",
     "output_type": "stream",
     "text": [
      "You Need To Enter A Valid Number\n"
     ]
    },
    {
     "name": "stdin",
     "output_type": "stream",
     "text": [
      "Number:  4\n"
     ]
    },
    {
     "name": "stdout",
     "output_type": "stream",
     "text": [
      "papper was deleted.\n",
      "\n",
      "COMMAND MENU\n",
      "list - Display all games\n",
      "view - View a game\n",
      "add - Add a game\n",
      "del - Delete a game\n",
      "exit - Exit program\n"
     ]
    },
    {
     "name": "stdin",
     "output_type": "stream",
     "text": [
      "\n",
      "Enter Command:  list\n"
     ]
    },
    {
     "name": "stdout",
     "output_type": "stream",
     "text": [
      "\n",
      "1. Mario Kart 8\n",
      "2. Super Smash Bros\n",
      "3. Fortnite\n",
      "\n",
      "COMMAND MENU\n",
      "list - Display all games\n",
      "view - View a game\n",
      "add - Add a game\n",
      "del - Delete a game\n",
      "exit - Exit program\n"
     ]
    },
    {
     "name": "stdin",
     "output_type": "stream",
     "text": [
      "\n",
      "Enter Command:  exit\n"
     ]
    },
    {
     "name": "stdout",
     "output_type": "stream",
     "text": [
      "Bye\n"
     ]
    }
   ],
   "source": [
    "# Author: Tyler Elvis \n",
    "# this code displays a menu for games and does things based off the menu \n",
    "\n",
    "import csv\n",
    "\n",
    "FILENAME = \"Games_csv.csv\"\n",
    "\n",
    "def write_game(game_list):\n",
    "    \"\"\"\n",
    "    The write_sales method writes to the csv file \n",
    "    \"\"\"\n",
    "    with open(FILENAME, \"w\", newline=\"\") as file:\n",
    "        writer = csv.writer(file)\n",
    "        writer.writerows(game_list)\n",
    "\n",
    "def read_game():\n",
    "    \"\"\"\n",
    "    the read_sales method reads all of the data from the csv file into a list \n",
    "    \"\"\"\n",
    "    game_list = []\n",
    "    with open(FILENAME, newline=\"\") as file:\n",
    "        reader = csv.reader(file)\n",
    "        for row in reader:\n",
    "            game_list.append(row)\n",
    "    return game_list\n",
    "\n",
    "def display_menu():\n",
    "    \"\"\"\n",
    "    The display_menu() function displays the menu \n",
    "    \"\"\"\n",
    "    print(\"COMMAND MENU\")\n",
    "    print(\"list - Display all games\")\n",
    "    print(\"view - View a game\")\n",
    "    print(\"add - Add a game\")\n",
    "    print(\"del - Delete a game\")\n",
    "    print(\"exit - Exit program\")\n",
    "\n",
    "\n",
    "def list(game_list):\n",
    "    \"\"\"\n",
    "    The list() function shows a list of all games availble\n",
    "    param: game_list List of games\n",
    "    \"\"\"\n",
    "    if len(game_list) == 0:\n",
    "        print(\"There are no games in the list.\\n\")\n",
    "    else:\n",
    "        i = 1\n",
    "        print()\n",
    "        for row in game_list:\n",
    "            print(str(i) + \". \" + row[0])\n",
    "            i += 1\n",
    "        \n",
    "        print()\n",
    "\n",
    "def view(game_list):\n",
    "    \"\"\"\n",
    "    the view() function views the game high score and its email\n",
    "    param: game_list, list of all the info \n",
    "    \"\"\"\n",
    "\n",
    "    try:\n",
    "        number = int(input(\"Number: \"))\n",
    "\n",
    "    except ValueError:\n",
    "        print(\"You Need To Enter A Vaild Number\")\n",
    "    finally:\n",
    "        number = int(input(\"Number: \"))\n",
    "        \n",
    "    if number < 1 or number > len(game_list):\n",
    "        print(\"You Must Enter A Vailed Number!!! Try Again!\")\n",
    "    else:\n",
    "        game = game_list[number-1]\n",
    "        game_name = print(\"Game: \" + game[0])\n",
    "        email = print(\"High Scorer Email: \" + game[1])\n",
    "        high_score = print(\"High Score: \" + str(game[2]))\n",
    "\n",
    "    print()\n",
    "\n",
    "\n",
    "def add(game_list):\n",
    "    \"\"\"\n",
    "    the add() function adds a game and its data into the list \n",
    "    param: game_list, list of the games\n",
    "    \"\"\"\n",
    "    name = input(\"Game: \")\n",
    "    year = input(\"High Scorer Email: \")\n",
    "    price = input(\"High Score: \")\n",
    "    game = []\n",
    "    game.append(name)\n",
    "    game.append(year)\n",
    "    game.append(price)\n",
    "    game_list.append(game)\n",
    "    print(game[0] + \" was added.\\n\")\n",
    "\n",
    "\n",
    "def delete(game_list):\n",
    "    \"\"\"\n",
    "    the delete() function deltes a game from the list \n",
    "    param: game_list, list of all the games \n",
    "    \"\"\"\n",
    "    try:\n",
    "        number = int(input(\"Number: \"))\n",
    "\n",
    "    except ValueError:\n",
    "        print(\"You Need To Enter A Valid Number\")\n",
    "    finally:\n",
    "        number = int(input(\"Number: \"))\n",
    "\n",
    "    if number < 1 or number > len(game_list):\n",
    "        print(\"You Must Enter A Valid Number!!! Try Again!\")\n",
    "    else:\n",
    "        \n",
    "        game = game_list.pop(number-1)\n",
    "        print(game[0] + \" was deleted.\\n\")\n",
    "    write_game(game_list)\n",
    "\n",
    "\n",
    "def main():\n",
    "    \"\"\"\n",
    "    the main() function is the main function and does main function things \n",
    "    \"\"\"\n",
    "    game_list = read_game()\n",
    "    display_menu()\n",
    "    command = input(\"\\nEnter Command: \")\n",
    "        \n",
    "    while (command.lower() != \"exit\"):\n",
    "        \n",
    "        if command.lower() == \"list\":\n",
    "            list(game_list)\n",
    "            display_menu()\n",
    "        elif command.lower() == \"add\":\n",
    "            add(game_list)\n",
    "            display_menu()\n",
    "        elif command.lower() == \"del\":\n",
    "            delete(game_list)\n",
    "            display_menu()\n",
    "        elif command.lower() == \"view\":\n",
    "            view(game_list)\n",
    "            display_menu()\n",
    "        else:\n",
    "            print(\"Not a valid command.  Please try again.\\n\")\n",
    "\n",
    "        command = input(\"\\nEnter Command: \")\n",
    "         \n",
    "    print(\"Bye\")     \n",
    "\n",
    "# gets the main \n",
    "if __name__ == \"__main__\":\n",
    "    main()      "
   ]
  },
  {
   "cell_type": "code",
   "execution_count": null,
   "id": "eb21931b-5aa8-4169-87fc-13e16aee2b82",
   "metadata": {},
   "outputs": [],
   "source": []
  }
 ],
 "metadata": {
  "kernelspec": {
   "display_name": "Python 3 (ipykernel)",
   "language": "python",
   "name": "python3"
  },
  "language_info": {
   "codemirror_mode": {
    "name": "ipython",
    "version": 3
   },
   "file_extension": ".py",
   "mimetype": "text/x-python",
   "name": "python",
   "nbconvert_exporter": "python",
   "pygments_lexer": "ipython3",
   "version": "3.12.4"
  }
 },
 "nbformat": 4,
 "nbformat_minor": 5
}
